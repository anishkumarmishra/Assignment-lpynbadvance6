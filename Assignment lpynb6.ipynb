{
  "nbformat": 4,
  "nbformat_minor": 0,
  "metadata": {
    "colab": {
      "provenance": []
    },
    "kernelspec": {
      "name": "python3",
      "display_name": "Python 3"
    },
    "language_info": {
      "name": "python"
    }
  },
  "cells": [
    {
      "cell_type": "markdown",
      "source": [
        "###**Q1. Describe three applications for exception processing.**\n",
        "\n",
        "**Ans:** Exception Processing is important to find exceptions that causes the runtime error. As runtime errors Halt the program execution when exception occurs.\n",
        "\n",
        "Exception Processing is used in Various Applications of which few examples are:\n",
        "\n",
        "Checking Appropriate use of input in an application\n",
        "\n",
        "Checking for Arithmetic exceptions in mathematical executions\n",
        "\n",
        "Checking File I/O exceptions during File handling"
      ],
      "metadata": {
        "id": "8sWoo6H_Ut9B"
      }
    },
    {
      "cell_type": "markdown",
      "source": [
        "###**Q2. What happens if you don't do something extra to treat an exception?**\n",
        "**Ans:** If Exceptions are not handled flow of program will be broken during the run time which might lead to a abnormal termination of the program. Inshort inability of program to handle exceptions will result in crashing of program."
      ],
      "metadata": {
        "id": "1BPCaZxJU6V_"
      }
    },
    {
      "cell_type": "markdown",
      "source": [
        "###**Q3. What are your options for recovering from an exception in your script?**\n",
        "**Ans:** Python provides try and except statements for recovering from an exception in your script."
      ],
      "metadata": {
        "id": "rhkHe8FnVE1p"
      }
    },
    {
      "cell_type": "markdown",
      "source": [
        "###**Q4. Describe two methods for triggering exceptions in your script ?**\n",
        "**Ans:** raise and assert are two methods that can be used to trigger manual exceptions in your script.\n",
        "\n",
        "**raise** method triggers an exception if condition provided to it turns out to be True.\n",
        "\n",
        "**assert** will let the program to continue execution if condition provided to it turns out to be True else exception will be raised"
      ],
      "metadata": {
        "id": "N4xmVvrNVkQA"
      }
    },
    {
      "cell_type": "markdown",
      "source": [
        "###**Q5. Identify two methods for specifying actions to be executed at termination time, regardless of whether or not an exception exists.**\n",
        "\n",
        "**Ans:** Python Provides else and finally blocks for specifying actions to be executed at termination time, regardless of whether an exceptions exists or not."
      ],
      "metadata": {
        "id": "jGpZ4aaPVx_H"
      }
    }
  ]
}